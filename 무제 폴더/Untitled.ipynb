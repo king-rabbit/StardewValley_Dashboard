{
 "cells": [
  {
   "cell_type": "code",
   "execution_count": 1,
   "id": "37f5a1b5",
   "metadata": {},
   "outputs": [],
   "source": [
    "import xml.etree.ElementTree as ET\n",
    "\n",
    "logs = ET.parse('king_rabbit/토끼왕_294312905 복사본.xml')\n",
    "root = logs.getroot()"
   ]
  },
  {
   "cell_type": "code",
   "execution_count": 2,
   "id": "d27c96bb",
   "metadata": {},
   "outputs": [],
   "source": [
    "root_str = ET.tostring(root, encoding='unicode', method='xml')"
   ]
  },
  {
   "cell_type": "code",
   "execution_count": 39,
   "id": "71033d29",
   "metadata": {},
   "outputs": [],
   "source": [
    "parser = ET.XMLPullParser(['start', 'end'])"
   ]
  },
  {
   "cell_type": "code",
   "execution_count": 40,
   "id": "4d75513e",
   "metadata": {},
   "outputs": [],
   "source": [
    "parser.feed(root_str)"
   ]
  },
  {
   "cell_type": "code",
   "execution_count": 3,
   "id": "12be6ad9",
   "metadata": {},
   "outputs": [
    {
     "data": {
      "text/plain": [
       "\"\\nfor event, elem in parser.read_events():\\n    print(event)\\n    print(elem.tag, 'text=' , elem.text)\\n\""
      ]
     },
     "execution_count": 3,
     "metadata": {},
     "output_type": "execute_result"
    }
   ],
   "source": [
    "'''\n",
    "for event, elem in parser.read_events():\n",
    "    print(event)\n",
    "    print(elem.tag, 'text=' , elem.text)\n",
    "'''"
   ]
  },
  {
   "cell_type": "code",
   "execution_count": 3,
   "id": "a3ebe6d8",
   "metadata": {},
   "outputs": [
    {
     "name": "stdout",
     "output_type": "stream",
     "text": [
      "0:player\n",
      "1:locations\n",
      "2:currentSeason\n",
      "3:samBandName\n",
      "4:elliottBookName\n",
      "5:broadcastedMail\n",
      "6:worldStateIDs\n",
      "7:lostBooksFound\n",
      "8:dayOfMonth\n",
      "9:year\n",
      "10:farmerWallpaper\n",
      "11:FarmerFloor\n",
      "12:currentWallpaper\n",
      "13:currentFloor\n",
      "14:currentSongIndex\n",
      "15:countdownToWedding\n",
      "16:incubatingEgg\n",
      "17:chanceToRainTomorrow\n",
      "18:dailyLuck\n",
      "19:uniqueIDForThisGame\n",
      "20:weddingToday\n",
      "21:isRaining\n",
      "22:isDebrisWeather\n",
      "23:shippingTax\n",
      "24:bloomDay\n",
      "25:isLightning\n",
      "26:isSnowing\n",
      "27:shouldSpawnMonsters\n",
      "28:hasApplied1_3_UpdateChanges\n",
      "29:hasApplied1_4_UpdateChanges\n",
      "30:musicVolume\n",
      "31:soundVolume\n",
      "32:cropsOfTheWeek\n",
      "33:dishOfTheDay\n",
      "34:highestPlayerLimit\n",
      "35:moveBuildingPermissionMode\n",
      "36:bannedUsers\n",
      "37:latestID\n",
      "38:CustomData\n",
      "39:mine_permanentMineChanges\n",
      "40:mine_lowestLevelReached\n",
      "41:minecartHighScore\n",
      "42:weatherForTomorrow\n",
      "43:whichFarm\n",
      "44:junimoKartLeaderboards\n",
      "45:farmerFriendships\n",
      "46:cellarAssignments\n",
      "47:lastAppliedSaveFix\n",
      "48:gameVersion\n",
      "49:tutorialData\n",
      "50:shopLocationsVisited\n",
      "51:showTutorials\n"
     ]
    }
   ],
   "source": [
    "for i in range(len(root)):\n",
    "    print( str(i) + \":\" + root[i].tag)"
   ]
  },
  {
   "cell_type": "code",
   "execution_count": 4,
   "id": "e453aeab",
   "metadata": {},
   "outputs": [
    {
     "name": "stdout",
     "output_type": "stream",
     "text": [
      "scale\n",
      "Position\n",
      "questLog\n",
      "professions\n",
      "newLevels\n",
      "experiencePoints\n",
      "items\n",
      "dialogueQuestionsAnswered\n",
      "furnitureOwned\n",
      "cookingRecipes\n",
      "craftingRecipes\n",
      "activeDialogueEvents\n",
      "eventsSeen\n",
      "secretNotesSeen\n",
      "songsHeard\n",
      "achievements\n",
      "specialItems\n",
      "specialBigCraftables\n",
      "mailReceived\n",
      "mailForTomorrow\n",
      "mailbox\n",
      "timeWentToBed\n",
      "stats\n",
      "blueprints\n",
      "itemsLostLastDeath\n",
      "userID\n",
      "mostRecentBed\n",
      "performedEmotes\n",
      "hairstyleColor\n",
      "pantsColor\n",
      "newEyeColor\n",
      "hat\n",
      "boots\n",
      "leftRing\n",
      "rightRing\n",
      "shirtItem\n",
      "pantsItem\n",
      "basicShipped\n",
      "mineralsFound\n",
      "recipesCooked\n",
      "fishCaught\n",
      "archaeologyFound\n",
      "giftedItems\n",
      "tailoredItems\n",
      "friendshipData\n",
      "bobber\n",
      "chestConsumedLevels\n"
     ]
    }
   ],
   "source": [
    "for child in root[0]: #player\n",
    "    if child.text == None: #자식 노드가 있음\n",
    "        print(child.tag)"
   ]
  },
  {
   "cell_type": "code",
   "execution_count": 12,
   "id": "6790ee1d",
   "metadata": {
    "tags": []
   },
   "outputs": [],
   "source": [
    "player_tag = []\n",
    "player_value = []\n",
    "for child in root[0]: #player\n",
    "    if child.text == None: #자식 노드가 있음\n",
    "        pass\n",
    "    else:\n",
    "        player_tag.append(child.tag)\n",
    "        player_value.append(str(root[0].find(child.tag).text))"
   ]
  },
  {
   "cell_type": "code",
   "execution_count": 16,
   "id": "20f71425",
   "metadata": {},
   "outputs": [],
   "source": [
    "import pandas as pd\n",
    "player = pd.DataFrame({'tag':player_tag, 'value':player_value})\n",
    "player.to_csv('../data/player_info.csv', encoding='utf-8-sig')"
   ]
  },
  {
   "cell_type": "code",
   "execution_count": 17,
   "id": "f030a3c6",
   "metadata": {},
   "outputs": [],
   "source": [
    "items = root.find('player').find('items')"
   ]
  },
  {
   "cell_type": "code",
   "execution_count": 18,
   "id": "f8363961",
   "metadata": {},
   "outputs": [],
   "source": [
    "#DisplayName, name, category, Stack, upgradeLevel\n",
    "items_el = items.findall('Item')\n",
    "\n",
    "name = []\n",
    "for it in items_el:\n",
    "    try:\n",
    "        name.append(it.find('name').text)\n",
    "    except AttributeError:\n",
    "        pass"
   ]
  },
  {
   "cell_type": "code",
   "execution_count": 19,
   "id": "507e6850",
   "metadata": {},
   "outputs": [],
   "source": [
    "fr = root.find('player').find('friendshipData')"
   ]
  },
  {
   "cell_type": "code",
   "execution_count": 20,
   "id": "16a151d2",
   "metadata": {},
   "outputs": [],
   "source": [
    "friends = fr.findall('string')"
   ]
  },
  {
   "cell_type": "code",
   "execution_count": 21,
   "id": "15e079af",
   "metadata": {},
   "outputs": [],
   "source": [
    "friends_nm = []\n",
    "friends_pt = []\n",
    "friends_st = []\n",
    "\n",
    "for item in fr.findall('item'):\n",
    "    fr_name = item.find('key').find('string').text\n",
    "    try:\n",
    "        fr_points = item[1][0][0].text\n",
    "    except:\n",
    "        fr_point = 'NaN'\n",
    "    try:\n",
    "        fr_status = item[1][0][6].text\n",
    "    except:\n",
    "        fr_status= 'NaN'\n",
    "        \n",
    "    friends_nm.append(fr_name)\n",
    "    friends_pt.append(fr_points)\n",
    "    friends_st.append(fr_status)"
   ]
  },
  {
   "cell_type": "code",
   "execution_count": 23,
   "id": "b8ca5e7d",
   "metadata": {},
   "outputs": [],
   "source": [
    "friends = pd.DataFrame({'name':friends_nm, 'points':friends_pt, 'status':friends_st})\n",
    "friends.to_csv('../data/friends.csv', encoding='utf-8-sig')"
   ]
  },
  {
   "cell_type": "code",
   "execution_count": 52,
   "id": "11a4ef7a",
   "metadata": {},
   "outputs": [],
   "source": [
    "root.find('player').find('Bat Wing')"
   ]
  },
  {
   "cell_type": "code",
   "execution_count": 24,
   "id": "f68e0b35",
   "metadata": {},
   "outputs": [],
   "source": [
    "stats = root.find('player').find('stats')"
   ]
  },
  {
   "cell_type": "code",
   "execution_count": 27,
   "id": "a627c2dc",
   "metadata": {},
   "outputs": [],
   "source": [
    "stat_nm = [stat.tag for stat in stats]\n",
    "stat_value = [str(stat.text) for stat in stats]"
   ]
  },
  {
   "cell_type": "code",
   "execution_count": 29,
   "id": "461a9a49",
   "metadata": {},
   "outputs": [],
   "source": [
    "stat_df = pd.DataFrame({'stat':stat_nm, 'value':stat_value})\n",
    "stat_df.to_csv('../data/stat.csv')"
   ]
  },
  {
   "cell_type": "code",
   "execution_count": 52,
   "id": "50de0b19",
   "metadata": {},
   "outputs": [
    {
     "data": {
      "text/plain": [
       "'1'"
      ]
     },
     "execution_count": 52,
     "metadata": {},
     "output_type": "execute_result"
    }
   ],
   "source": [
    "root.find('player').find(\"items\")[0].find('DisplayName').text\n",
    "root.find('player').find(\"items\")[0].find('Stack').text"
   ]
  },
  {
   "cell_type": "code",
   "execution_count": 38,
   "id": "f1bb1fe7",
   "metadata": {},
   "outputs": [
    {
     "data": {
      "text/plain": [
       "'388'"
      ]
     },
     "execution_count": 38,
     "metadata": {},
     "output_type": "execute_result"
    }
   ],
   "source": [
    "root.find('player').find('basicShipped')[0][0][0].text"
   ]
  },
  {
   "cell_type": "code",
   "execution_count": 48,
   "id": "39e43c65",
   "metadata": {},
   "outputs": [
    {
     "data": {
      "text/plain": [
       "'88'"
      ]
     },
     "execution_count": 48,
     "metadata": {},
     "output_type": "execute_result"
    }
   ],
   "source": [
    "root.find('player').find('basicShipped')[0][1][0].text"
   ]
  },
  {
   "cell_type": "code",
   "execution_count": 50,
   "id": "ea9f21fa",
   "metadata": {},
   "outputs": [],
   "source": [
    "basicShipped_item = [] \n",
    "basicShipped_item_cnt = []\n",
    "for item in root.find('player').find('basicShipped'):\n",
    "    basicShipped_item.append(item[0][0].text)\n",
    "    basicShipped_item_cnt.append(item[1][0].text)"
   ]
  },
  {
   "cell_type": "code",
   "execution_count": 53,
   "id": "5fc977b1",
   "metadata": {},
   "outputs": [],
   "source": [
    "basicShipped = pd.DataFrame({'item':basicShipped_item, 'cnt':basicShipped_item_cnt})"
   ]
  },
  {
   "cell_type": "code",
   "execution_count": 55,
   "id": "f12a0a58",
   "metadata": {},
   "outputs": [],
   "source": [
    "basicShipped.to_csv('../data/basicShipped.csv')"
   ]
  },
  {
   "cell_type": "code",
   "execution_count": 58,
   "id": "333f5369",
   "metadata": {},
   "outputs": [],
   "source": [
    "minerals = [mineral[0][0].text for mineral in  root.find('player').find('mineralsFound')]\n",
    "minerals_cnt = [mineral[1][0].text for mineral in  root.find('player').find('mineralsFound')]"
   ]
  },
  {
   "cell_type": "code",
   "execution_count": 59,
   "id": "7a7f0f8a",
   "metadata": {},
   "outputs": [],
   "source": [
    "mineralsFound = pd.DataFrame({'mineral':minerals, 'cnt':minerals_cnt})"
   ]
  },
  {
   "cell_type": "code",
   "execution_count": 61,
   "id": "25de060f",
   "metadata": {},
   "outputs": [],
   "source": [
    "mineralsFound.to_csv('../data/mineralsFound.csv')"
   ]
  },
  {
   "cell_type": "code",
   "execution_count": 62,
   "id": "57daacd1",
   "metadata": {},
   "outputs": [],
   "source": [
    "crafts = [craft[0][0].text for craft in  root.find('player').find('craftingRecipes')]\n",
    "crafts_cnt = [craft[1][0].text for craft in  root.find('player').find('craftingRecipes')]\n",
    "craftingRecipes = pd.DataFrame({'craft':crafts, 'cnt':crafts_cnt})\n",
    "craftingRecipes.to_csv('../data/craftingRecipes.csv')"
   ]
  },
  {
   "cell_type": "code",
   "execution_count": 90,
   "id": "18c90777",
   "metadata": {},
   "outputs": [],
   "source": [
    "archaeologys = [archaeology[0][0].text for archaeology in  root.find('player').find('archaeologyFound')]\n",
    "archaeologys_cnt = [archaeology[1][0][0].text for archaeology in  root.find('player').find('archaeologyFound')]\n",
    "archaeologyFound = pd.DataFrame({'archaeology':archaeologys, 'cnt':archaeologys_cnt})"
   ]
  },
  {
   "cell_type": "code",
   "execution_count": 92,
   "id": "f40a718f",
   "metadata": {},
   "outputs": [],
   "source": [
    "archaeologyFound.to_csv('../data/archaeologyFound.csv')"
   ]
  },
  {
   "cell_type": "code",
   "execution_count": 106,
   "id": "fa28cfff",
   "metadata": {},
   "outputs": [
    {
     "data": {
      "text/plain": [
       "'2'"
      ]
     },
     "execution_count": 106,
     "metadata": {},
     "output_type": "execute_result"
    }
   ],
   "source": [
    "root.find('player').find('tailoredItems')[1][1][0].text"
   ]
  },
  {
   "cell_type": "code",
   "execution_count": 108,
   "id": "e19f1cf0",
   "metadata": {},
   "outputs": [],
   "source": [
    "tailoreds = [tailored[0][0].text for tailored in  root.find('player').find('tailoredItems')]\n",
    "tailoreds_cnt = [tailored[1][0].text for tailored in  root.find('player').find('tailoredItems')]\n",
    "tailoredItems = pd.DataFrame({'tailored':tailoreds, 'cnt':tailoreds_cnt})"
   ]
  },
  {
   "cell_type": "code",
   "execution_count": 110,
   "id": "82f640c2",
   "metadata": {},
   "outputs": [],
   "source": [
    "tailoredItems.to_csv('../data/tailoredItems.csv')"
   ]
  },
  {
   "cell_type": "code",
   "execution_count": 118,
   "id": "843ffcc7",
   "metadata": {},
   "outputs": [],
   "source": [
    "cooked = [cooking[0][0].text for cooking in  root.find('player').find('recipesCooked')]\n",
    "cooked_cnt = [cooking[1][0].text for cooking in  root.find('player').find('recipesCooked')]\n",
    "recipesCooked = pd.DataFrame({'cooking':cooked, 'cnt':cooked_cnt})"
   ]
  },
  {
   "cell_type": "code",
   "execution_count": 120,
   "id": "d0dfa203",
   "metadata": {},
   "outputs": [],
   "source": [
    "recipesCooked.to_csv('recipesCooked.csv')"
   ]
  },
  {
   "cell_type": "code",
   "execution_count": null,
   "id": "87c92dd9-74e4-40eb-9804-73973f408eee",
   "metadata": {},
   "outputs": [],
   "source": []
  },
  {
   "cell_type": "code",
   "execution_count": 23,
   "id": "c421aedd-2637-40eb-84df-fb987e5951fd",
   "metadata": {},
   "outputs": [
    {
     "name": "stdout",
     "output_type": "stream",
     "text": [
      "Robin\n",
      "2749\n",
      "0\n",
      "0\n",
      "6\n",
      "4\n",
      "fall\n",
      "619\n",
      "false\n",
      "false\n",
      "Friendly\n",
      "0\n",
      "false\n",
      "Lewis\n",
      "2749\n",
      "0\n",
      "0\n",
      "6\n",
      "19\n",
      "fall\n",
      "634\n",
      "false\n",
      "false\n",
      "Friendly\n",
      "0\n",
      "false\n",
      "Vincent\n",
      "2442\n",
      "0\n",
      "0\n",
      "6\n",
      "18\n",
      "fall\n",
      "633\n",
      "false\n",
      "false\n",
      "Friendly\n",
      "0\n",
      "false\n",
      "Jodi\n",
      "2573\n",
      "0\n",
      "0\n",
      "6\n",
      "18\n",
      "fall\n",
      "633\n",
      "false\n",
      "false\n",
      "Friendly\n",
      "0\n",
      "false\n",
      "Haley\n",
      "2384\n",
      "0\n",
      "0\n",
      "6\n",
      "20\n",
      "fall\n",
      "635\n",
      "false\n",
      "false\n",
      "Dating\n",
      "0\n",
      "false\n",
      "Sam\n",
      "2249\n",
      "0\n",
      "0\n",
      "6\n",
      "18\n",
      "fall\n",
      "633\n",
      "false\n",
      "false\n",
      "Friendly\n",
      "0\n",
      "false\n",
      "Emily\n",
      "2510\n",
      "0\n",
      "0\n",
      "6\n",
      "18\n",
      "fall\n",
      "633\n",
      "false\n",
      "false\n",
      "Dating\n",
      "0\n",
      "false\n",
      "Marnie\n",
      "2749\n",
      "0\n",
      "0\n",
      "6\n",
      "15\n",
      "spring\n",
      "574\n",
      "false\n",
      "false\n",
      "Friendly\n",
      "0\n",
      "false\n",
      "Elliott\n",
      "2205\n",
      "0\n",
      "0\n",
      "6\n",
      "18\n",
      "fall\n",
      "633\n",
      "false\n",
      "false\n",
      "Friendly\n",
      "0\n",
      "false\n",
      "Maru\n",
      "2679\n",
      "0\n",
      "0\n",
      "6\n",
      "4\n",
      "fall\n",
      "619\n",
      "false\n",
      "false\n",
      "Dating\n",
      "0\n",
      "false\n",
      "Evelyn\n",
      "2248\n",
      "0\n",
      "0\n",
      "6\n",
      "24\n",
      "summer\n",
      "611\n",
      "false\n",
      "false\n",
      "Friendly\n",
      "0\n",
      "false\n",
      "Gus\n",
      "2575\n",
      "0\n",
      "0\n",
      "6\n",
      "18\n",
      "fall\n",
      "633\n",
      "false\n",
      "false\n",
      "Friendly\n",
      "0\n",
      "false\n",
      "Pam\n",
      "2749\n",
      "0\n",
      "0\n",
      "6\n",
      "25\n",
      "spring\n",
      "584\n",
      "false\n",
      "false\n",
      "Friendly\n",
      "0\n",
      "false\n",
      "Alex\n",
      "2032\n",
      "0\n",
      "0\n",
      "6\n",
      "18\n",
      "fall\n",
      "633\n",
      "false\n",
      "false\n",
      "Friendly\n",
      "0\n",
      "false\n",
      "Penny\n",
      "2313\n",
      "0\n",
      "0\n",
      "6\n",
      "18\n",
      "fall\n",
      "633\n",
      "false\n",
      "false\n",
      "Dating\n",
      "0\n",
      "false\n",
      "George\n",
      "1731\n",
      "0\n",
      "0\n",
      "6\n",
      "23\n",
      "summer\n",
      "610\n",
      "false\n",
      "false\n",
      "Friendly\n",
      "0\n",
      "false\n",
      "Caroline\n",
      "2166\n",
      "0\n",
      "0\n",
      "6\n",
      "26\n",
      "summer\n",
      "613\n",
      "false\n",
      "false\n",
      "Friendly\n",
      "0\n",
      "false\n",
      "Pierre\n",
      "2300\n",
      "0\n",
      "0\n",
      "6\n",
      "19\n",
      "fall\n",
      "634\n",
      "false\n",
      "false\n",
      "Friendly\n",
      "0\n",
      "false\n",
      "Shane\n",
      "2249\n",
      "0\n",
      "0\n",
      "6\n",
      "26\n",
      "summer\n",
      "613\n",
      "false\n",
      "false\n",
      "Friendly\n",
      "0\n",
      "false\n",
      "Willy\n",
      "2749\n",
      "0\n",
      "0\n",
      "6\n",
      "9\n",
      "fall\n",
      "624\n",
      "false\n",
      "false\n",
      "Friendly\n",
      "0\n",
      "false\n",
      "Jas\n",
      "2600\n",
      "0\n",
      "0\n",
      "6\n",
      "20\n",
      "fall\n",
      "635\n",
      "false\n",
      "false\n",
      "Friendly\n",
      "0\n",
      "false\n",
      "Harvey\n",
      "2084\n",
      "0\n",
      "0\n",
      "6\n",
      "24\n",
      "summer\n",
      "611\n",
      "false\n",
      "false\n",
      "Dating\n",
      "0\n",
      "false\n",
      "Demetrius\n",
      "2736\n",
      "0\n",
      "0\n",
      "6\n",
      "28\n",
      "spring\n",
      "587\n",
      "false\n",
      "false\n",
      "Friendly\n",
      "0\n",
      "false\n",
      "Linus\n",
      "2005\n",
      "0\n",
      "0\n",
      "6\n",
      "4\n",
      "fall\n",
      "619\n",
      "false\n",
      "false\n",
      "Friendly\n",
      "0\n",
      "false\n",
      "Abigail\n",
      "2749\n",
      "0\n",
      "0\n",
      "6\n",
      "18\n",
      "fall\n",
      "633\n",
      "false\n",
      "false\n",
      "Dating\n",
      "0\n",
      "false\n",
      "Sebastian\n",
      "2344\n",
      "0\n",
      "0\n",
      "6\n",
      "19\n",
      "fall\n",
      "634\n",
      "false\n",
      "false\n",
      "Dating\n",
      "0\n",
      "false\n",
      "Clint\n",
      "2373\n",
      "0\n",
      "0\n",
      "6\n",
      "19\n",
      "fall\n",
      "634\n",
      "false\n",
      "false\n",
      "Friendly\n",
      "0\n",
      "false\n",
      "Leah\n",
      "3709\n",
      "0\n",
      "0\n",
      "6\n",
      "25\n",
      "spring\n",
      "584\n",
      "false\n",
      "false\n",
      "4\n",
      "17\n",
      "summer\n",
      "380\n",
      "Married\n",
      "0\n",
      "false\n",
      "Wizard\n",
      "1961\n",
      "0\n",
      "0\n",
      "6\n",
      "18\n",
      "fall\n",
      "633\n",
      "false\n",
      "false\n",
      "Friendly\n",
      "0\n",
      "false\n",
      "Dwarf\n",
      "997\n",
      "0\n",
      "0\n",
      "6\n",
      "6\n",
      "fall\n",
      "621\n",
      "false\n",
      "false\n",
      "Friendly\n",
      "0\n",
      "false\n",
      "Kent\n",
      "2749\n",
      "0\n",
      "0\n",
      "6\n",
      "19\n",
      "fall\n",
      "634\n",
      "false\n",
      "false\n",
      "Friendly\n",
      "0\n",
      "false\n",
      "Sandy\n",
      "897\n",
      "1\n",
      "0\n",
      "6\n",
      "23\n",
      "fall\n",
      "638\n",
      "false\n",
      "false\n",
      "Friendly\n",
      "0\n",
      "false\n",
      "Krobus\n",
      "0\n",
      "0\n",
      "0\n",
      "4\n",
      "3\n",
      "summer\n",
      "366\n",
      "false\n",
      "false\n",
      "Friendly\n",
      "0\n",
      "false\n",
      "Henchman\n",
      "0\n",
      "0\n",
      "0\n",
      "false\n",
      "false\n",
      "Friendly\n",
      "0\n",
      "false\n",
      "포로리\n",
      "2406\n",
      "0\n",
      "0\n",
      "false\n",
      "false\n",
      "Friendly\n",
      "0\n",
      "false\n",
      "보노보노\n",
      "1484\n",
      "0\n",
      "0\n",
      "false\n",
      "false\n",
      "Friendly\n",
      "0\n",
      "false\n"
     ]
    }
   ],
   "source": [
    "for txt in root.find('player').find('friendshipData').itertext():\n",
    "    print(txt)"
   ]
  },
  {
   "cell_type": "code",
   "execution_count": null,
   "id": "1327e8b8-81af-473a-b213-f6ddb4ad5096",
   "metadata": {},
   "outputs": [],
   "source": []
  },
  {
   "cell_type": "code",
   "execution_count": null,
   "id": "f4a22846-630d-449b-ba9e-2e938bee93a2",
   "metadata": {},
   "outputs": [],
   "source": []
  },
  {
   "cell_type": "code",
   "execution_count": null,
   "id": "48394274",
   "metadata": {},
   "outputs": [],
   "source": []
  },
  {
   "cell_type": "code",
   "execution_count": 11,
   "id": "565e8933",
   "metadata": {},
   "outputs": [],
   "source": [
    "achievement = [int(acm.text) for acm in root.find('player').find('achievements')]"
   ]
  },
  {
   "cell_type": "code",
   "execution_count": 7,
   "id": "60882855",
   "metadata": {},
   "outputs": [],
   "source": [
    "professions = [pf.text for pf in root.find('player').find('professions')]"
   ]
  },
  {
   "cell_type": "code",
   "execution_count": 8,
   "id": "da05a34e-05b1-4914-a386-32487c4aeaf8",
   "metadata": {},
   "outputs": [
    {
     "data": {
      "text/plain": [
       "['1', '13', '19', '24', '4', '7', '17', '23', '27', '11']"
      ]
     },
     "execution_count": 8,
     "metadata": {},
     "output_type": "execute_result"
    }
   ],
   "source": [
    "professions"
   ]
  },
  {
   "cell_type": "code",
   "execution_count": 136,
   "id": "22deef91",
   "metadata": {},
   "outputs": [],
   "source": [
    "mailReceived = [mail.text for mail in root.find('player').find('mailReceived')]"
   ]
  },
  {
   "cell_type": "code",
   "execution_count": 218,
   "id": "bc2a4c0c",
   "metadata": {},
   "outputs": [
    {
     "name": "stdout",
     "output_type": "stream",
     "text": [
      "key\n",
      "value\n",
      "Haley\n",
      "key\n",
      "value\n",
      "10\n",
      "item\n",
      "591\n",
      "2\n"
     ]
    }
   ],
   "source": [
    "print(root.find('player').find('giftedItems')[1][0].tag)\n",
    "print(root.find('player').find('giftedItems')[1][1].tag)\n",
    "print(root.find('player').find('giftedItems')[1][0][0].text) #선물 준 사람\n",
    "print(root.find('player').find('giftedItems')[0][0].tag)\n",
    "print(root.find('player').find('giftedItems')[0][1].tag)\n",
    "print(len(root.find('player').find('giftedItems')[0][1][0].tag))\n",
    "print(root.find('player').find('giftedItems')[0][1][0][0].tag)\n",
    "print(root.find('player').find('giftedItems')[0][1][0][0][0][0].text) #준 선물\n",
    "print(root.find('player').find('giftedItems')[0][1][0][0][1][0].text) #준 횟수"
   ]
  },
  {
   "cell_type": "code",
   "execution_count": 15,
   "id": "3e053e03",
   "metadata": {},
   "outputs": [
    {
     "name": "stdout",
     "output_type": "stream",
     "text": [
      "Haley\n",
      "414\n",
      "1\n",
      "402\n",
      "1\n"
     ]
    }
   ],
   "source": [
    "print(root.find('player').find('giftedItems')[1][0][0].text) #사람이름\n",
    "print(root.find('player').find('giftedItems')[1][1][0][1][0][0].text) #선물번호\n",
    "print(root.find('player').find('giftedItems')[1][1][0][1][1][0].text) #선물 횟수\n",
    "print(root.find('player').find('giftedItems')[1][1][0][2][0][0].text) #선물번호\n",
    "print(root.find('player').find('giftedItems')[1][1][0][2][1][0].text) #선물 횟수"
   ]
  },
  {
   "cell_type": "code",
   "execution_count": 17,
   "id": "3a1c6607",
   "metadata": {},
   "outputs": [
    {
     "data": {
      "text/plain": [
       "33"
      ]
     },
     "execution_count": 17,
     "metadata": {},
     "output_type": "execute_result"
    }
   ],
   "source": [
    "len(root.find('player').find('giftedItems')) #사람이름"
   ]
  },
  {
   "cell_type": "code",
   "execution_count": 26,
   "id": "bc6e0522",
   "metadata": {},
   "outputs": [],
   "source": [
    "friends_gift = root.find('player').find('giftedItems')\n",
    "\n",
    "friend_nm = []\n",
    "gift_id = []\n",
    "gift_cnt = []\n",
    "\n",
    "for i in range(len(friends_gift)):\n",
    "    fr_name = friends_gift[i][0][0].text\n",
    "    len_gifts = len(root.find('player').find('giftedItems')[i][1][0])\n",
    "    \n",
    "    for j in range(len_gifts):\n",
    "        gid = friends_gift[i][1][0][j][0][0].text\n",
    "        gcnt = friends_gift[i][1][0][j][1][0].text\n",
    "        \n",
    "        friend_nm.append(fr_name)\n",
    "        gift_id.append(gid)\n",
    "        gift_cnt.append(gcnt)"
   ]
  },
  {
   "cell_type": "code",
   "execution_count": 31,
   "id": "a0d3dc79",
   "metadata": {},
   "outputs": [],
   "source": [
    "import pandas as pd\n",
    "friend_gift_df = pd.DataFrame({'name':friend_nm, 'gift':gift_id, 'cnt':gift_cnt})"
   ]
  },
  {
   "cell_type": "code",
   "execution_count": 32,
   "id": "6e9b66db",
   "metadata": {},
   "outputs": [
    {
     "ename": "FileNotFoundError",
     "evalue": "[Errno 2] No such file or directory: 'data/friend_gift.csv'",
     "output_type": "error",
     "traceback": [
      "\u001b[1;31m---------------------------------------------------------------------------\u001b[0m",
      "\u001b[1;31mFileNotFoundError\u001b[0m                         Traceback (most recent call last)",
      "\u001b[1;32m<ipython-input-32-713f85630126>\u001b[0m in \u001b[0;36m<module>\u001b[1;34m\u001b[0m\n\u001b[1;32m----> 1\u001b[1;33m \u001b[0mfriend_gift_df\u001b[0m\u001b[1;33m.\u001b[0m\u001b[0mto_csv\u001b[0m\u001b[1;33m(\u001b[0m\u001b[1;34m'data/friend_gift.csv'\u001b[0m\u001b[1;33m)\u001b[0m\u001b[1;33m\u001b[0m\u001b[1;33m\u001b[0m\u001b[0m\n\u001b[0m",
      "\u001b[1;32m~\\anaconda3\\lib\\site-packages\\pandas\\core\\generic.py\u001b[0m in \u001b[0;36mto_csv\u001b[1;34m(self, path_or_buf, sep, na_rep, float_format, columns, header, index, index_label, mode, encoding, compression, quoting, quotechar, line_terminator, chunksize, date_format, doublequote, escapechar, decimal, errors)\u001b[0m\n\u001b[0;32m   3168\u001b[0m             \u001b[0mdecimal\u001b[0m\u001b[1;33m=\u001b[0m\u001b[0mdecimal\u001b[0m\u001b[1;33m,\u001b[0m\u001b[1;33m\u001b[0m\u001b[1;33m\u001b[0m\u001b[0m\n\u001b[0;32m   3169\u001b[0m         )\n\u001b[1;32m-> 3170\u001b[1;33m         \u001b[0mformatter\u001b[0m\u001b[1;33m.\u001b[0m\u001b[0msave\u001b[0m\u001b[1;33m(\u001b[0m\u001b[1;33m)\u001b[0m\u001b[1;33m\u001b[0m\u001b[1;33m\u001b[0m\u001b[0m\n\u001b[0m\u001b[0;32m   3171\u001b[0m \u001b[1;33m\u001b[0m\u001b[0m\n\u001b[0;32m   3172\u001b[0m         \u001b[1;32mif\u001b[0m \u001b[0mpath_or_buf\u001b[0m \u001b[1;32mis\u001b[0m \u001b[1;32mNone\u001b[0m\u001b[1;33m:\u001b[0m\u001b[1;33m\u001b[0m\u001b[1;33m\u001b[0m\u001b[0m\n",
      "\u001b[1;32m~\\anaconda3\\lib\\site-packages\\pandas\\io\\formats\\csvs.py\u001b[0m in \u001b[0;36msave\u001b[1;34m(self)\u001b[0m\n\u001b[0;32m    183\u001b[0m             \u001b[0mclose\u001b[0m \u001b[1;33m=\u001b[0m \u001b[1;32mFalse\u001b[0m\u001b[1;33m\u001b[0m\u001b[1;33m\u001b[0m\u001b[0m\n\u001b[0;32m    184\u001b[0m         \u001b[1;32melse\u001b[0m\u001b[1;33m:\u001b[0m\u001b[1;33m\u001b[0m\u001b[1;33m\u001b[0m\u001b[0m\n\u001b[1;32m--> 185\u001b[1;33m             f, handles = get_handle(\n\u001b[0m\u001b[0;32m    186\u001b[0m                 \u001b[0mself\u001b[0m\u001b[1;33m.\u001b[0m\u001b[0mpath_or_buf\u001b[0m\u001b[1;33m,\u001b[0m\u001b[1;33m\u001b[0m\u001b[1;33m\u001b[0m\u001b[0m\n\u001b[0;32m    187\u001b[0m                 \u001b[0mself\u001b[0m\u001b[1;33m.\u001b[0m\u001b[0mmode\u001b[0m\u001b[1;33m,\u001b[0m\u001b[1;33m\u001b[0m\u001b[1;33m\u001b[0m\u001b[0m\n",
      "\u001b[1;32m~\\anaconda3\\lib\\site-packages\\pandas\\io\\common.py\u001b[0m in \u001b[0;36mget_handle\u001b[1;34m(path_or_buf, mode, encoding, compression, memory_map, is_text, errors)\u001b[0m\n\u001b[0;32m    491\u001b[0m         \u001b[1;32mif\u001b[0m \u001b[0mencoding\u001b[0m\u001b[1;33m:\u001b[0m\u001b[1;33m\u001b[0m\u001b[1;33m\u001b[0m\u001b[0m\n\u001b[0;32m    492\u001b[0m             \u001b[1;31m# Encoding\u001b[0m\u001b[1;33m\u001b[0m\u001b[1;33m\u001b[0m\u001b[1;33m\u001b[0m\u001b[0m\n\u001b[1;32m--> 493\u001b[1;33m             \u001b[0mf\u001b[0m \u001b[1;33m=\u001b[0m \u001b[0mopen\u001b[0m\u001b[1;33m(\u001b[0m\u001b[0mpath_or_buf\u001b[0m\u001b[1;33m,\u001b[0m \u001b[0mmode\u001b[0m\u001b[1;33m,\u001b[0m \u001b[0mencoding\u001b[0m\u001b[1;33m=\u001b[0m\u001b[0mencoding\u001b[0m\u001b[1;33m,\u001b[0m \u001b[0merrors\u001b[0m\u001b[1;33m=\u001b[0m\u001b[0merrors\u001b[0m\u001b[1;33m,\u001b[0m \u001b[0mnewline\u001b[0m\u001b[1;33m=\u001b[0m\u001b[1;34m\"\"\u001b[0m\u001b[1;33m)\u001b[0m\u001b[1;33m\u001b[0m\u001b[1;33m\u001b[0m\u001b[0m\n\u001b[0m\u001b[0;32m    494\u001b[0m         \u001b[1;32melif\u001b[0m \u001b[0mis_text\u001b[0m\u001b[1;33m:\u001b[0m\u001b[1;33m\u001b[0m\u001b[1;33m\u001b[0m\u001b[0m\n\u001b[0;32m    495\u001b[0m             \u001b[1;31m# No explicit encoding\u001b[0m\u001b[1;33m\u001b[0m\u001b[1;33m\u001b[0m\u001b[1;33m\u001b[0m\u001b[0m\n",
      "\u001b[1;31mFileNotFoundError\u001b[0m: [Errno 2] No such file or directory: 'data/friend_gift.csv'"
     ]
    }
   ],
   "source": [
    "friend_gift_df.to_csv('data/friend_gift.csv')"
   ]
  },
  {
   "cell_type": "code",
   "execution_count": null,
   "id": "55ed367d",
   "metadata": {},
   "outputs": [],
   "source": []
  },
  {
   "cell_type": "code",
   "execution_count": null,
   "id": "0ee69558",
   "metadata": {},
   "outputs": [],
   "source": []
  },
  {
   "cell_type": "code",
   "execution_count": 55,
   "id": "7e0b9d0a",
   "metadata": {},
   "outputs": [
    {
     "name": "stdout",
     "output_type": "stream",
     "text": [
      "강철 물뿌리개\n",
      "1\n",
      "이리듐 낚싯대\n",
      "1\n",
      "이리듐 곡괭이\n",
      "1\n",
      "이리듐 호미\n",
      "1\n",
      "이리듐 도끼\n",
      "1\n",
      "황금 낫\n",
      "1\n",
      "갤럭시 소드\n",
      "1\n",
      "갤럭시 해머\n",
      "1\n",
      "헤이즐넛\n",
      "2\n",
      "선인장 열매\n",
      "2\n",
      "청나래고사리\n",
      "3\n",
      "트리플 샷 에스프레소\n",
      "11\n",
      "쿠키\n",
      "1\n",
      "치즈 콜리플라워\n",
      "1\n",
      "커피\n",
      "163\n",
      "전 정동석\n",
      "1\n",
      "영화표\n",
      "4\n",
      "얼어붙은 정동석\n",
      "1\n"
     ]
    }
   ],
   "source": [
    "#현재 가방에 갖고 있는 아이템\n",
    "for item in root.find('player').find(\"items\"):\n",
    "    try:\n",
    "        print(str(item.find('DisplayName').text))\n",
    "    except:\n",
    "        pass\n",
    "    try:\n",
    "        print(str(item.find('Stack').text))\n",
    "    except:pass"
   ]
  },
  {
   "cell_type": "code",
   "execution_count": 62,
   "id": "01dd0f7f",
   "metadata": {},
   "outputs": [
    {
     "name": "stdout",
     "output_type": "stream",
     "text": [
      "Chest\n",
      "14\n",
      "Wood Fence\n",
      "1\n",
      "Gate\n",
      "20\n",
      "Torch\n",
      "194\n",
      "Campfire\n",
      "16\n",
      "Wood Path\n",
      "0\n",
      "Cobblestone Path\n",
      "0\n",
      "Gravel Path\n",
      "0\n",
      "Wood Sign\n",
      "1\n",
      "Stone Sign\n",
      "1\n",
      "Cherry Bomb\n",
      "8\n",
      "Furnace\n",
      "10\n",
      "Scarecrow\n",
      "4\n",
      "Basic Fertilizer\n",
      "48\n",
      "Wild Seeds (Sp)\n",
      "20\n",
      "Field Snack\n",
      "1\n",
      "Staircase\n",
      "29\n",
      "Tapper\n",
      "10\n",
      "Stone Fence\n",
      "62\n",
      "Mayonnaise Machine\n",
      "12\n",
      "Sprinkler\n",
      "12\n",
      "Bee House\n",
      "2\n",
      "Speed-Gro\n",
      "0\n",
      "Charcoal Kiln\n",
      "2\n",
      "Wild Seeds (Su)\n",
      "10\n",
      "Iron Fence\n",
      "80\n",
      "Preserves Jar\n",
      "18\n",
      "Basic Retaining Soil\n",
      "23\n",
      "Hardwood Fence\n",
      "0\n",
      "Cheese Press\n",
      "13\n",
      "Quality Sprinkler\n",
      "19\n",
      "Sturdy Ring\n",
      "1\n",
      "Transmute (Fe)\n",
      "1\n",
      "Life Elixir\n",
      "0\n",
      "Lightning Rod\n",
      "7\n",
      "Wild Seeds (Fa)\n",
      "0\n",
      "Warp Totem: Beach\n",
      "0\n",
      "Loom\n",
      "5\n",
      "Quality Retaining Soil\n",
      "90\n",
      "Warrior Ring\n",
      "0\n",
      "Keg\n",
      "26\n",
      "Oil Maker\n",
      "5\n",
      "Deluxe Speed-Gro\n",
      "0\n",
      "Bomb\n",
      "48\n",
      "Wild Seeds (Wi)\n",
      "0\n",
      "Warp Totem: Mountains\n",
      "5\n",
      "Tree Fertilizer\n",
      "2\n",
      "Seed Maker\n",
      "1\n",
      "Iridium Sprinkler\n",
      "12\n",
      "Quality Fertilizer\n",
      "0\n",
      "Wood Lamp-post\n",
      "7\n",
      "Wooden Brazier\n",
      "1\n",
      "Bait\n",
      "130\n",
      "Warp Totem: Farm\n",
      "4\n",
      "Slime Egg-Press\n",
      "0\n",
      "Oil Of Garlic\n",
      "0\n",
      "Transmute (Au)\n",
      "0\n",
      "Crab Pot\n",
      "14\n",
      "Mega Bomb\n",
      "38\n",
      "Ring of Yoba\n",
      "1\n",
      "Recycling Machine\n",
      "2\n",
      "Brick Floor\n",
      "595\n",
      "Rain Totem\n",
      "0\n",
      "Grass Starter\n",
      "21\n",
      "Spinner\n",
      "0\n",
      "Trap Bobber\n",
      "0\n",
      "Iron Lamp-post\n",
      "9\n",
      "Stone Floor\n",
      "0\n",
      "Straw Floor\n",
      "0\n",
      "Wood Floor\n",
      "174\n",
      "Stepping Stone Path\n",
      "0\n",
      "Crystal Path\n",
      "25\n",
      "Stone Brazier\n",
      "5\n",
      "Garden Pot\n",
      "28\n",
      "Cork Bobber\n",
      "0\n",
      "Treasure Hunter\n",
      "0\n",
      "Crystalarium\n",
      "2\n",
      "Slime Incubator\n",
      "0\n",
      "Explosive Ammo\n",
      "0\n",
      "Worm Bin\n",
      "0\n",
      "Dressed Spinner\n",
      "0\n",
      "Barbed Hook\n",
      "0\n",
      "Mini-Jukebox\n",
      "0\n",
      "Iridium Band\n",
      "1\n",
      "Magnet\n",
      "0\n",
      "Cask\n",
      "0\n",
      "Tea Sapling\n",
      "1\n",
      "Flute Block\n",
      "0\n",
      "Drum Block\n",
      "0\n",
      "Wild Bait\n",
      "0\n",
      "Ancient Seeds\n",
      "0\n",
      "Warp Totem: Desert\n",
      "5\n",
      "Crystal Floor\n",
      "0\n",
      "Barrel Brazier\n",
      "0\n"
     ]
    }
   ],
   "source": [
    "for txt in root.find('player').find(\"craftingRecipes\").itertext():\n",
    "    print(txt)"
   ]
  },
  {
   "cell_type": "code",
   "execution_count": 70,
   "id": "38a696ea",
   "metadata": {},
   "outputs": [
    {
     "name": "stdout",
     "output_type": "stream",
     "text": [
      "1\n",
      "13\n",
      "19\n",
      "24\n",
      "4\n",
      "7\n",
      "17\n",
      "23\n",
      "27\n",
      "11\n"
     ]
    }
   ],
   "source": [
    "for txt in root.find('player').find(\"professions\").itertext():\n",
    "    print(txt)"
   ]
  },
  {
   "cell_type": "code",
   "execution_count": null,
   "id": "7d7b9772",
   "metadata": {},
   "outputs": [],
   "source": []
  },
  {
   "cell_type": "code",
   "execution_count": null,
   "id": "0636ecd0",
   "metadata": {},
   "outputs": [],
   "source": []
  },
  {
   "cell_type": "code",
   "execution_count": null,
   "id": "b66a4717",
   "metadata": {},
   "outputs": [],
   "source": []
  },
  {
   "cell_type": "code",
   "execution_count": null,
   "id": "c593e04d",
   "metadata": {},
   "outputs": [],
   "source": []
  }
 ],
 "metadata": {
  "kernelspec": {
   "display_name": "Python 3",
   "language": "python",
   "name": "python3"
  },
  "language_info": {
   "codemirror_mode": {
    "name": "ipython",
    "version": 3
   },
   "file_extension": ".py",
   "mimetype": "text/x-python",
   "name": "python",
   "nbconvert_exporter": "python",
   "pygments_lexer": "ipython3",
   "version": "3.8.8"
  }
 },
 "nbformat": 4,
 "nbformat_minor": 5
}
