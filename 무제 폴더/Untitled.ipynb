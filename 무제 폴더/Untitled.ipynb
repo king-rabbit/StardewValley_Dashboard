{
 "cells": [
  {
   "cell_type": "code",
   "execution_count": 1,
   "metadata": {},
   "outputs": [],
   "source": [
    "import xml.etree.ElementTree as ET\n",
    "\n",
    "logs = ET.parse('king_rabbit/토끼왕_294312905 복사본.xml')\n",
    "root = logs.getroot()"
   ]
  },
  {
   "cell_type": "code",
   "execution_count": 2,
   "metadata": {},
   "outputs": [],
   "source": [
    "root_str = ET.tostring(root, encoding='unicode', method='xml')"
   ]
  },
  {
   "cell_type": "code",
   "execution_count": 39,
   "metadata": {},
   "outputs": [],
   "source": [
    "parser = ET.XMLPullParser(['start', 'end'])"
   ]
  },
  {
   "cell_type": "code",
   "execution_count": 40,
   "metadata": {},
   "outputs": [],
   "source": [
    "parser.feed(root_str)"
   ]
  },
  {
   "cell_type": "code",
   "execution_count": 3,
   "metadata": {},
   "outputs": [
    {
     "data": {
      "text/plain": [
       "\"\\nfor event, elem in parser.read_events():\\n    print(event)\\n    print(elem.tag, 'text=' , elem.text)\\n\""
      ]
     },
     "execution_count": 3,
     "metadata": {},
     "output_type": "execute_result"
    }
   ],
   "source": [
    "'''\n",
    "for event, elem in parser.read_events():\n",
    "    print(event)\n",
    "    print(elem.tag, 'text=' , elem.text)\n",
    "'''"
   ]
  },
  {
   "cell_type": "code",
   "execution_count": 3,
   "metadata": {},
   "outputs": [
    {
     "name": "stdout",
     "output_type": "stream",
     "text": [
      "0:player\n",
      "1:locations\n",
      "2:currentSeason\n",
      "3:samBandName\n",
      "4:elliottBookName\n",
      "5:broadcastedMail\n",
      "6:worldStateIDs\n",
      "7:lostBooksFound\n",
      "8:dayOfMonth\n",
      "9:year\n",
      "10:farmerWallpaper\n",
      "11:FarmerFloor\n",
      "12:currentWallpaper\n",
      "13:currentFloor\n",
      "14:currentSongIndex\n",
      "15:countdownToWedding\n",
      "16:incubatingEgg\n",
      "17:chanceToRainTomorrow\n",
      "18:dailyLuck\n",
      "19:uniqueIDForThisGame\n",
      "20:weddingToday\n",
      "21:isRaining\n",
      "22:isDebrisWeather\n",
      "23:shippingTax\n",
      "24:bloomDay\n",
      "25:isLightning\n",
      "26:isSnowing\n",
      "27:shouldSpawnMonsters\n",
      "28:hasApplied1_3_UpdateChanges\n",
      "29:hasApplied1_4_UpdateChanges\n",
      "30:musicVolume\n",
      "31:soundVolume\n",
      "32:cropsOfTheWeek\n",
      "33:dishOfTheDay\n",
      "34:highestPlayerLimit\n",
      "35:moveBuildingPermissionMode\n",
      "36:bannedUsers\n",
      "37:latestID\n",
      "38:CustomData\n",
      "39:mine_permanentMineChanges\n",
      "40:mine_lowestLevelReached\n",
      "41:minecartHighScore\n",
      "42:weatherForTomorrow\n",
      "43:whichFarm\n",
      "44:junimoKartLeaderboards\n",
      "45:farmerFriendships\n",
      "46:cellarAssignments\n",
      "47:lastAppliedSaveFix\n",
      "48:gameVersion\n",
      "49:tutorialData\n",
      "50:shopLocationsVisited\n",
      "51:showTutorials\n"
     ]
    }
   ],
   "source": [
    "for i in range(len(root)):\n",
    "    print( str(i) + \":\" + root[i].tag)"
   ]
  },
  {
   "cell_type": "code",
   "execution_count": 4,
   "metadata": {},
   "outputs": [
    {
     "name": "stdout",
     "output_type": "stream",
     "text": [
      "scale\n",
      "Position\n",
      "questLog\n",
      "professions\n",
      "newLevels\n",
      "experiencePoints\n",
      "items\n",
      "dialogueQuestionsAnswered\n",
      "furnitureOwned\n",
      "cookingRecipes\n",
      "craftingRecipes\n",
      "activeDialogueEvents\n",
      "eventsSeen\n",
      "secretNotesSeen\n",
      "songsHeard\n",
      "achievements\n",
      "specialItems\n",
      "specialBigCraftables\n",
      "mailReceived\n",
      "mailForTomorrow\n",
      "mailbox\n",
      "timeWentToBed\n",
      "stats\n",
      "blueprints\n",
      "itemsLostLastDeath\n",
      "userID\n",
      "mostRecentBed\n",
      "performedEmotes\n",
      "hairstyleColor\n",
      "pantsColor\n",
      "newEyeColor\n",
      "hat\n",
      "boots\n",
      "leftRing\n",
      "rightRing\n",
      "shirtItem\n",
      "pantsItem\n",
      "basicShipped\n",
      "mineralsFound\n",
      "recipesCooked\n",
      "fishCaught\n",
      "archaeologyFound\n",
      "giftedItems\n",
      "tailoredItems\n",
      "friendshipData\n",
      "bobber\n",
      "chestConsumedLevels\n"
     ]
    }
   ],
   "source": [
    "for child in root[0]: #player\n",
    "    if child.text == None: #자식 노드가 있음\n",
    "        print(child.tag)"
   ]
  },
  {
   "cell_type": "code",
   "execution_count": 12,
   "metadata": {
    "tags": []
   },
   "outputs": [],
   "source": [
    "player_tag = []\n",
    "player_value = []\n",
    "for child in root[0]: #player\n",
    "    if child.text == None: #자식 노드가 있음\n",
    "        pass\n",
    "    else:\n",
    "        player_tag.append(child.tag)\n",
    "        player_value.append(str(root[0].find(child.tag).text))"
   ]
  },
  {
   "cell_type": "code",
   "execution_count": 16,
   "metadata": {},
   "outputs": [],
   "source": [
    "import pandas as pd\n",
    "player = pd.DataFrame({'tag':player_tag, 'value':player_value})\n",
    "player.to_csv('../data/player_info.csv', encoding='utf-8-sig')"
   ]
  },
  {
   "cell_type": "code",
   "execution_count": 17,
   "metadata": {},
   "outputs": [],
   "source": [
    "items = root.find('player').find('items')"
   ]
  },
  {
   "cell_type": "code",
   "execution_count": 18,
   "metadata": {},
   "outputs": [],
   "source": [
    "#DisplayName, name, category, Stack, upgradeLevel\n",
    "items_el = items.findall('Item')\n",
    "\n",
    "name = []\n",
    "for it in items_el:\n",
    "    try:\n",
    "        name.append(it.find('name').text)\n",
    "    except AttributeError:\n",
    "        pass"
   ]
  },
  {
   "cell_type": "code",
   "execution_count": 19,
   "metadata": {},
   "outputs": [],
   "source": [
    "fr = root.find('player').find('friendshipData')"
   ]
  },
  {
   "cell_type": "code",
   "execution_count": 20,
   "metadata": {},
   "outputs": [],
   "source": [
    "friends = fr.findall('string')"
   ]
  },
  {
   "cell_type": "code",
   "execution_count": 21,
   "metadata": {},
   "outputs": [],
   "source": [
    "friends_nm = []\n",
    "friends_pt = []\n",
    "friends_st = []\n",
    "\n",
    "for item in fr.findall('item'):\n",
    "    fr_name = item.find('key').find('string').text\n",
    "    try:\n",
    "        fr_points = item[1][0][0].text\n",
    "    except:\n",
    "        fr_point = 'NaN'\n",
    "    try:\n",
    "        fr_status = item[1][0][6].text\n",
    "    except:\n",
    "        fr_status= 'NaN'\n",
    "        \n",
    "    friends_nm.append(fr_name)\n",
    "    friends_pt.append(fr_points)\n",
    "    friends_st.append(fr_status)"
   ]
  },
  {
   "cell_type": "code",
   "execution_count": 23,
   "metadata": {},
   "outputs": [],
   "source": [
    "friends = pd.DataFrame({'name':friends_nm, 'points':friends_pt, 'status':friends_st})\n",
    "friends.to_csv('../data/friends.csv', encoding='utf-8-sig')"
   ]
  },
  {
   "cell_type": "code",
   "execution_count": 52,
   "metadata": {},
   "outputs": [],
   "source": [
    "root.find('player').find('Bat Wing')"
   ]
  },
  {
   "cell_type": "code",
   "execution_count": 24,
   "metadata": {},
   "outputs": [],
   "source": [
    "stats = root.find('player').find('stats')"
   ]
  },
  {
   "cell_type": "code",
   "execution_count": 27,
   "metadata": {},
   "outputs": [],
   "source": [
    "stat_nm = [stat.tag for stat in stats]\n",
    "stat_value = [str(stat.text) for stat in stats]"
   ]
  },
  {
   "cell_type": "code",
   "execution_count": 29,
   "metadata": {},
   "outputs": [],
   "source": [
    "stat_df = pd.DataFrame({'stat':stat_nm, 'value':stat_value})\n",
    "stat_df.to_csv('../data/stat.csv')"
   ]
  },
  {
   "cell_type": "code",
   "execution_count": 52,
   "metadata": {},
   "outputs": [
    {
     "data": {
      "text/plain": [
       "'1'"
      ]
     },
     "execution_count": 52,
     "metadata": {},
     "output_type": "execute_result"
    }
   ],
   "source": [
    "root.find('player').find(\"items\")[0].find('DisplayName').text\n",
    "root.find('player').find(\"items\")[0].find('Stack').text"
   ]
  },
  {
   "cell_type": "code",
   "execution_count": 38,
   "metadata": {},
   "outputs": [
    {
     "data": {
      "text/plain": [
       "'388'"
      ]
     },
     "execution_count": 38,
     "metadata": {},
     "output_type": "execute_result"
    }
   ],
   "source": [
    "root.find('player').find('basicShipped')[0][0][0].text"
   ]
  },
  {
   "cell_type": "code",
   "execution_count": 48,
   "metadata": {},
   "outputs": [
    {
     "data": {
      "text/plain": [
       "'88'"
      ]
     },
     "execution_count": 48,
     "metadata": {},
     "output_type": "execute_result"
    }
   ],
   "source": [
    "root.find('player').find('basicShipped')[0][1][0].text"
   ]
  },
  {
   "cell_type": "code",
   "execution_count": 50,
   "metadata": {},
   "outputs": [],
   "source": [
    "basicShipped_item = [] \n",
    "basicShipped_item_cnt = []\n",
    "for item in root.find('player').find('basicShipped'):\n",
    "    basicShipped_item.append(item[0][0].text)\n",
    "    basicShipped_item_cnt.append(item[1][0].text)"
   ]
  },
  {
   "cell_type": "code",
   "execution_count": 53,
   "metadata": {},
   "outputs": [],
   "source": [
    "basicShipped = pd.DataFrame({'item':basicShipped_item, 'cnt':basicShipped_item_cnt})"
   ]
  },
  {
   "cell_type": "code",
   "execution_count": 55,
   "metadata": {},
   "outputs": [],
   "source": [
    "basicShipped.to_csv('../data/basicShipped.csv')"
   ]
  },
  {
   "cell_type": "code",
   "execution_count": 58,
   "metadata": {},
   "outputs": [],
   "source": [
    "minerals = [mineral[0][0].text for mineral in  root.find('player').find('mineralsFound')]\n",
    "minerals_cnt = [mineral[1][0].text for mineral in  root.find('player').find('mineralsFound')]"
   ]
  },
  {
   "cell_type": "code",
   "execution_count": 59,
   "metadata": {},
   "outputs": [],
   "source": [
    "mineralsFound = pd.DataFrame({'mineral':minerals, 'cnt':minerals_cnt})"
   ]
  },
  {
   "cell_type": "code",
   "execution_count": 61,
   "metadata": {},
   "outputs": [],
   "source": [
    "mineralsFound.to_csv('../data/mineralsFound.csv')"
   ]
  },
  {
   "cell_type": "code",
   "execution_count": 62,
   "metadata": {},
   "outputs": [],
   "source": [
    "crafts = [craft[0][0].text for craft in  root.find('player').find('craftingRecipes')]\n",
    "crafts_cnt = [craft[1][0].text for craft in  root.find('player').find('craftingRecipes')]\n",
    "craftingRecipes = pd.DataFrame({'craft':crafts, 'cnt':crafts_cnt})\n",
    "craftingRecipes.to_csv('../data/craftingRecipes.csv')"
   ]
  },
  {
   "cell_type": "code",
   "execution_count": 90,
   "metadata": {},
   "outputs": [],
   "source": [
    "archaeologys = [archaeology[0][0].text for archaeology in  root.find('player').find('archaeologyFound')]\n",
    "archaeologys_cnt = [archaeology[1][0][0].text for archaeology in  root.find('player').find('archaeologyFound')]\n",
    "archaeologyFound = pd.DataFrame({'archaeology':archaeologys, 'cnt':archaeologys_cnt})"
   ]
  },
  {
   "cell_type": "code",
   "execution_count": 92,
   "metadata": {},
   "outputs": [],
   "source": [
    "archaeologyFound.to_csv('../data/archaeologyFound.csv')"
   ]
  },
  {
   "cell_type": "code",
   "execution_count": 106,
   "metadata": {},
   "outputs": [
    {
     "data": {
      "text/plain": [
       "'2'"
      ]
     },
     "execution_count": 106,
     "metadata": {},
     "output_type": "execute_result"
    }
   ],
   "source": [
    "root.find('player').find('tailoredItems')[1][1][0].text"
   ]
  },
  {
   "cell_type": "code",
   "execution_count": 108,
   "metadata": {},
   "outputs": [],
   "source": [
    "tailoreds = [tailored[0][0].text for tailored in  root.find('player').find('tailoredItems')]\n",
    "tailoreds_cnt = [tailored[1][0].text for tailored in  root.find('player').find('tailoredItems')]\n",
    "tailoredItems = pd.DataFrame({'tailored':tailoreds, 'cnt':tailoreds_cnt})"
   ]
  },
  {
   "cell_type": "code",
   "execution_count": 110,
   "metadata": {},
   "outputs": [],
   "source": [
    "tailoredItems.to_csv('../data/tailoredItems.csv')"
   ]
  },
  {
   "cell_type": "code",
   "execution_count": 118,
   "metadata": {},
   "outputs": [],
   "source": [
    "cooked = [cooking[0][0].text for cooking in  root.find('player').find('recipesCooked')]\n",
    "cooked_cnt = [cooking[1][0].text for cooking in  root.find('player').find('recipesCooked')]\n",
    "recipesCooked = pd.DataFrame({'cooking':cooked, 'cnt':cooked_cnt})"
   ]
  },
  {
   "cell_type": "code",
   "execution_count": 120,
   "metadata": {},
   "outputs": [],
   "source": [
    "recipesCooked.to_csv('recipesCooked.csv')"
   ]
  },
  {
   "cell_type": "code",
   "execution_count": null,
   "metadata": {},
   "outputs": [],
   "source": []
  },
  {
   "cell_type": "code",
   "execution_count": 11,
   "metadata": {},
   "outputs": [],
   "source": [
    "achievement = [int(acm.text) for acm in root.find('player').find('achievements')]"
   ]
  },
  {
   "cell_type": "code",
   "execution_count": 12,
   "metadata": {},
   "outputs": [
    {
     "data": {
      "text/plain": [
       "[0,\n",
       " 1,\n",
       " 2,\n",
       " 3,\n",
       " 6,\n",
       " 7,\n",
       " 9,\n",
       " 11,\n",
       " 12,\n",
       " 13,\n",
       " 15,\n",
       " 16,\n",
       " 18,\n",
       " 19,\n",
       " 20,\n",
       " 21,\n",
       " 24,\n",
       " 25,\n",
       " 27,\n",
       " 28,\n",
       " 29,\n",
       " 31,\n",
       " 32]"
      ]
     },
     "execution_count": 12,
     "metadata": {},
     "output_type": "execute_result"
    }
   ],
   "source": [
    "achievement.sort()\n",
    "achievement"
   ]
  },
  {
   "cell_type": "code",
   "execution_count": 133,
   "metadata": {},
   "outputs": [],
   "source": [
    "professions = [pf.text for pf in root.find('player').find('professions')]"
   ]
  },
  {
   "cell_type": "code",
   "execution_count": 136,
   "metadata": {},
   "outputs": [],
   "source": [
    "mailReceived = [mail.text for mail in root.find('player').find('mailReceived')]"
   ]
  },
  {
   "cell_type": "code",
   "execution_count": 218,
   "metadata": {},
   "outputs": [
    {
     "name": "stdout",
     "output_type": "stream",
     "text": [
      "key\n",
      "value\n",
      "Haley\n",
      "key\n",
      "value\n",
      "10\n",
      "item\n",
      "591\n",
      "2\n"
     ]
    }
   ],
   "source": [
    "print(root.find('player').find('giftedItems')[1][0].tag)\n",
    "print(root.find('player').find('giftedItems')[1][1].tag)\n",
    "print(root.find('player').find('giftedItems')[1][0][0].text) #선물 준 사람\n",
    "print(root.find('player').find('giftedItems')[0][0].tag)\n",
    "print(root.find('player').find('giftedItems')[0][1].tag)\n",
    "print(len(root.find('player').find('giftedItems')[0][1][0].tag))\n",
    "print(root.find('player').find('giftedItems')[0][1][0][0].tag)\n",
    "print(root.find('player').find('giftedItems')[0][1][0][0][0][0].text) #준 선물\n",
    "print(root.find('player').find('giftedItems')[0][1][0][0][1][0].text) #준 횟수"
   ]
  },
  {
   "cell_type": "code",
   "execution_count": 15,
   "metadata": {},
   "outputs": [
    {
     "name": "stdout",
     "output_type": "stream",
     "text": [
      "Haley\n",
      "414\n",
      "1\n",
      "402\n",
      "1\n"
     ]
    }
   ],
   "source": [
    "print(root.find('player').find('giftedItems')[1][0][0].text) #사람이름\n",
    "print(root.find('player').find('giftedItems')[1][1][0][1][0][0].text) #선물번호\n",
    "print(root.find('player').find('giftedItems')[1][1][0][1][1][0].text) #선물 횟수\n",
    "print(root.find('player').find('giftedItems')[1][1][0][2][0][0].text) #선물번호\n",
    "print(root.find('player').find('giftedItems')[1][1][0][2][1][0].text) #선물 횟수"
   ]
  },
  {
   "cell_type": "code",
   "execution_count": 17,
   "metadata": {},
   "outputs": [
    {
     "data": {
      "text/plain": [
       "33"
      ]
     },
     "execution_count": 17,
     "metadata": {},
     "output_type": "execute_result"
    }
   ],
   "source": [
    "len(root.find('player').find('giftedItems')) #사람이름"
   ]
  },
  {
   "cell_type": "code",
   "execution_count": 26,
   "metadata": {},
   "outputs": [],
   "source": [
    "friends_gift = root.find('player').find('giftedItems')\n",
    "\n",
    "friend_nm = []\n",
    "gift_id = []\n",
    "gift_cnt = []\n",
    "\n",
    "for i in range(len(friends_gift)):\n",
    "    fr_name = friends_gift[i][0][0].text\n",
    "    len_gifts = len(root.find('player').find('giftedItems')[i][1][0])\n",
    "    \n",
    "    for j in range(len_gifts):\n",
    "        gid = friends_gift[i][1][0][j][0][0].text\n",
    "        gcnt = friends_gift[i][1][0][j][1][0].text\n",
    "        \n",
    "        friend_nm.append(fr_name)\n",
    "        gift_id.append(gid)\n",
    "        gift_cnt.append(gcnt)"
   ]
  },
  {
   "cell_type": "code",
   "execution_count": 31,
   "metadata": {},
   "outputs": [],
   "source": [
    "import pandas as pd\n",
    "friend_gift_df = pd.DataFrame({'name':friend_nm, 'gift':gift_id, 'cnt':gift_cnt})"
   ]
  },
  {
   "cell_type": "code",
   "execution_count": 33,
   "metadata": {},
   "outputs": [],
   "source": [
    "friend_gift_df.to_csv('../data/friend_gift.csv')"
   ]
  },
  {
   "cell_type": "code",
   "execution_count": null,
   "metadata": {},
   "outputs": [],
   "source": []
  },
  {
   "cell_type": "code",
   "execution_count": null,
   "metadata": {},
   "outputs": [],
   "source": []
  },
  {
   "cell_type": "code",
   "execution_count": 55,
   "metadata": {},
   "outputs": [
    {
     "name": "stdout",
     "output_type": "stream",
     "text": [
      "강철 물뿌리개\n",
      "1\n",
      "이리듐 낚싯대\n",
      "1\n",
      "이리듐 곡괭이\n",
      "1\n",
      "이리듐 호미\n",
      "1\n",
      "이리듐 도끼\n",
      "1\n",
      "황금 낫\n",
      "1\n",
      "갤럭시 소드\n",
      "1\n",
      "갤럭시 해머\n",
      "1\n",
      "헤이즐넛\n",
      "2\n",
      "선인장 열매\n",
      "2\n",
      "청나래고사리\n",
      "3\n",
      "트리플 샷 에스프레소\n",
      "11\n",
      "쿠키\n",
      "1\n",
      "치즈 콜리플라워\n",
      "1\n",
      "커피\n",
      "163\n",
      "전 정동석\n",
      "1\n",
      "영화표\n",
      "4\n",
      "얼어붙은 정동석\n",
      "1\n"
     ]
    }
   ],
   "source": [
    "#현재 가방에 갖고 있는 아이템\n",
    "for item in root.find('player').find(\"items\"):\n",
    "    try:\n",
    "        print(str(item.find('DisplayName').text))\n",
    "    except:\n",
    "        pass\n",
    "    try:\n",
    "        print(str(item.find('Stack').text))\n",
    "    except:pass"
   ]
  },
  {
   "cell_type": "code",
   "execution_count": 62,
   "metadata": {},
   "outputs": [
    {
     "name": "stdout",
     "output_type": "stream",
     "text": [
      "Chest\n",
      "14\n",
      "Wood Fence\n",
      "1\n",
      "Gate\n",
      "20\n",
      "Torch\n",
      "194\n",
      "Campfire\n",
      "16\n",
      "Wood Path\n",
      "0\n",
      "Cobblestone Path\n",
      "0\n",
      "Gravel Path\n",
      "0\n",
      "Wood Sign\n",
      "1\n",
      "Stone Sign\n",
      "1\n",
      "Cherry Bomb\n",
      "8\n",
      "Furnace\n",
      "10\n",
      "Scarecrow\n",
      "4\n",
      "Basic Fertilizer\n",
      "48\n",
      "Wild Seeds (Sp)\n",
      "20\n",
      "Field Snack\n",
      "1\n",
      "Staircase\n",
      "29\n",
      "Tapper\n",
      "10\n",
      "Stone Fence\n",
      "62\n",
      "Mayonnaise Machine\n",
      "12\n",
      "Sprinkler\n",
      "12\n",
      "Bee House\n",
      "2\n",
      "Speed-Gro\n",
      "0\n",
      "Charcoal Kiln\n",
      "2\n",
      "Wild Seeds (Su)\n",
      "10\n",
      "Iron Fence\n",
      "80\n",
      "Preserves Jar\n",
      "18\n",
      "Basic Retaining Soil\n",
      "23\n",
      "Hardwood Fence\n",
      "0\n",
      "Cheese Press\n",
      "13\n",
      "Quality Sprinkler\n",
      "19\n",
      "Sturdy Ring\n",
      "1\n",
      "Transmute (Fe)\n",
      "1\n",
      "Life Elixir\n",
      "0\n",
      "Lightning Rod\n",
      "7\n",
      "Wild Seeds (Fa)\n",
      "0\n",
      "Warp Totem: Beach\n",
      "0\n",
      "Loom\n",
      "5\n",
      "Quality Retaining Soil\n",
      "90\n",
      "Warrior Ring\n",
      "0\n",
      "Keg\n",
      "26\n",
      "Oil Maker\n",
      "5\n",
      "Deluxe Speed-Gro\n",
      "0\n",
      "Bomb\n",
      "48\n",
      "Wild Seeds (Wi)\n",
      "0\n",
      "Warp Totem: Mountains\n",
      "5\n",
      "Tree Fertilizer\n",
      "2\n",
      "Seed Maker\n",
      "1\n",
      "Iridium Sprinkler\n",
      "12\n",
      "Quality Fertilizer\n",
      "0\n",
      "Wood Lamp-post\n",
      "7\n",
      "Wooden Brazier\n",
      "1\n",
      "Bait\n",
      "130\n",
      "Warp Totem: Farm\n",
      "4\n",
      "Slime Egg-Press\n",
      "0\n",
      "Oil Of Garlic\n",
      "0\n",
      "Transmute (Au)\n",
      "0\n",
      "Crab Pot\n",
      "14\n",
      "Mega Bomb\n",
      "38\n",
      "Ring of Yoba\n",
      "1\n",
      "Recycling Machine\n",
      "2\n",
      "Brick Floor\n",
      "595\n",
      "Rain Totem\n",
      "0\n",
      "Grass Starter\n",
      "21\n",
      "Spinner\n",
      "0\n",
      "Trap Bobber\n",
      "0\n",
      "Iron Lamp-post\n",
      "9\n",
      "Stone Floor\n",
      "0\n",
      "Straw Floor\n",
      "0\n",
      "Wood Floor\n",
      "174\n",
      "Stepping Stone Path\n",
      "0\n",
      "Crystal Path\n",
      "25\n",
      "Stone Brazier\n",
      "5\n",
      "Garden Pot\n",
      "28\n",
      "Cork Bobber\n",
      "0\n",
      "Treasure Hunter\n",
      "0\n",
      "Crystalarium\n",
      "2\n",
      "Slime Incubator\n",
      "0\n",
      "Explosive Ammo\n",
      "0\n",
      "Worm Bin\n",
      "0\n",
      "Dressed Spinner\n",
      "0\n",
      "Barbed Hook\n",
      "0\n",
      "Mini-Jukebox\n",
      "0\n",
      "Iridium Band\n",
      "1\n",
      "Magnet\n",
      "0\n",
      "Cask\n",
      "0\n",
      "Tea Sapling\n",
      "1\n",
      "Flute Block\n",
      "0\n",
      "Drum Block\n",
      "0\n",
      "Wild Bait\n",
      "0\n",
      "Ancient Seeds\n",
      "0\n",
      "Warp Totem: Desert\n",
      "5\n",
      "Crystal Floor\n",
      "0\n",
      "Barrel Brazier\n",
      "0\n"
     ]
    }
   ],
   "source": [
    "for txt in root.find('player').find(\"craftingRecipes\").itertext():\n",
    "    print(txt)"
   ]
  },
  {
   "cell_type": "code",
   "execution_count": 70,
   "metadata": {},
   "outputs": [
    {
     "name": "stdout",
     "output_type": "stream",
     "text": [
      "1\n",
      "13\n",
      "19\n",
      "24\n",
      "4\n",
      "7\n",
      "17\n",
      "23\n",
      "27\n",
      "11\n"
     ]
    }
   ],
   "source": [
    "for txt in root.find('player').find(\"professions\").itertext():\n",
    "    print(txt)"
   ]
  },
  {
   "cell_type": "code",
   "execution_count": null,
   "metadata": {},
   "outputs": [],
   "source": []
  },
  {
   "cell_type": "code",
   "execution_count": null,
   "metadata": {},
   "outputs": [],
   "source": []
  },
  {
   "cell_type": "code",
   "execution_count": null,
   "metadata": {},
   "outputs": [],
   "source": []
  },
  {
   "cell_type": "code",
   "execution_count": null,
   "metadata": {},
   "outputs": [],
   "source": []
  }
 ],
 "metadata": {
  "kernelspec": {
   "display_name": "Python 3",
   "language": "python",
   "name": "python3"
  },
  "language_info": {
   "codemirror_mode": {
    "name": "ipython",
    "version": 3
   },
   "file_extension": ".py",
   "mimetype": "text/x-python",
   "name": "python",
   "nbconvert_exporter": "python",
   "pygments_lexer": "ipython3",
   "version": "3.8.3"
  }
 },
 "nbformat": 4,
 "nbformat_minor": 5
}
