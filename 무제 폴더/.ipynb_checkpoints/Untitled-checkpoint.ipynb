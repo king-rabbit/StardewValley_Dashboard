{
 "cells": [
  {
   "cell_type": "code",
   "execution_count": 1,
   "metadata": {},
   "outputs": [],
   "source": [
    "import xml.etree.ElementTree as ET\n",
    "\n",
    "logs = ET.parse('king_rabbit/토끼왕_294312905')\n",
    "root = logs.getroot()"
   ]
  },
  {
   "cell_type": "code",
   "execution_count": 38,
   "metadata": {},
   "outputs": [],
   "source": [
    "root_str = ET.tostring(root, encoding='unicode', method='xml')"
   ]
  },
  {
   "cell_type": "code",
   "execution_count": 39,
   "metadata": {},
   "outputs": [],
   "source": [
    "parser = ET.XMLPullParser(['start', 'end'])"
   ]
  },
  {
   "cell_type": "code",
   "execution_count": 40,
   "metadata": {},
   "outputs": [],
   "source": [
    "parser.feed(root_str)"
   ]
  },
  {
   "cell_type": "code",
   "execution_count": 3,
   "metadata": {},
   "outputs": [
    {
     "data": {
      "text/plain": [
       "\"\\nfor event, elem in parser.read_events():\\n    print(event)\\n    print(elem.tag, 'text=' , elem.text)\\n\""
      ]
     },
     "execution_count": 3,
     "metadata": {},
     "output_type": "execute_result"
    }
   ],
   "source": [
    "'''\n",
    "for event, elem in parser.read_events():\n",
    "    print(event)\n",
    "    print(elem.tag, 'text=' , elem.text)\n",
    "'''"
   ]
  },
  {
   "cell_type": "code",
   "execution_count": 31,
   "metadata": {},
   "outputs": [
    {
     "name": "stdout",
     "output_type": "stream",
     "text": [
      "0:player\n",
      "1:locations\n",
      "2:currentSeason\n",
      "3:samBandName\n",
      "4:elliottBookName\n",
      "5:broadcastedMail\n",
      "6:worldStateIDs\n",
      "7:lostBooksFound\n",
      "8:dayOfMonth\n",
      "9:year\n",
      "10:farmerWallpaper\n",
      "11:FarmerFloor\n",
      "12:currentWallpaper\n",
      "13:currentFloor\n",
      "14:currentSongIndex\n",
      "15:countdownToWedding\n",
      "16:incubatingEgg\n",
      "17:chanceToRainTomorrow\n",
      "18:dailyLuck\n",
      "19:uniqueIDForThisGame\n",
      "20:weddingToday\n",
      "21:isRaining\n",
      "22:isDebrisWeather\n",
      "23:shippingTax\n",
      "24:bloomDay\n",
      "25:isLightning\n",
      "26:isSnowing\n",
      "27:shouldSpawnMonsters\n",
      "28:hasApplied1_3_UpdateChanges\n",
      "29:hasApplied1_4_UpdateChanges\n",
      "30:musicVolume\n",
      "31:soundVolume\n",
      "32:cropsOfTheWeek\n",
      "33:dishOfTheDay\n",
      "34:highestPlayerLimit\n",
      "35:moveBuildingPermissionMode\n",
      "36:bannedUsers\n",
      "37:latestID\n",
      "38:CustomData\n",
      "39:mine_permanentMineChanges\n",
      "40:mine_lowestLevelReached\n",
      "41:minecartHighScore\n",
      "42:weatherForTomorrow\n",
      "43:whichFarm\n",
      "44:junimoKartLeaderboards\n",
      "45:farmerFriendships\n",
      "46:cellarAssignments\n",
      "47:lastAppliedSaveFix\n",
      "48:gameVersion\n",
      "49:tutorialData\n",
      "50:shopLocationsVisited\n",
      "51:showTutorials\n"
     ]
    }
   ],
   "source": [
    "for i in range(len(root)):\n",
    "    print( str(i) + \":\" + root[i].tag)"
   ]
  },
  {
   "cell_type": "code",
   "execution_count": 2,
   "metadata": {
    "tags": []
   },
   "outputs": [
    {
     "name": "stdout",
     "output_type": "stream",
     "text": [
      "name : 토끼왕\n",
      "isEmoting : true\n",
      "isCharging : false\n",
      "isGlowing : false\n",
      "coloredBorder : false\n",
      "flip : false\n",
      "drawOnTop : false\n",
      "faceTowardFarmer : false\n",
      "ignoreMovementAnimation : false\n",
      "faceAwayFromFarmer : false\n",
      "scale\n",
      "timeBeforeAIMovementAgain : 0\n",
      "glowingTransparency : 0\n",
      "glowRate : 0.05\n",
      "willDestroyObjectsUnderfoot : true\n",
      "Position\n",
      "Speed : 5\n",
      "FacingDirection : 1\n",
      "IsEmoting : true\n",
      "CurrentEmote : 24\n",
      "Scale : 1\n",
      "questLog\n",
      "professions\n",
      "newLevels\n",
      "experiencePoints\n",
      "items\n",
      "dialogueQuestionsAnswered\n",
      "furnitureOwned\n",
      "cookingRecipes\n",
      "craftingRecipes\n",
      "activeDialogueEvents\n",
      "eventsSeen\n",
      "secretNotesSeen\n",
      "songsHeard\n",
      "achievements\n",
      "specialItems\n",
      "specialBigCraftables\n",
      "mailReceived\n",
      "mailForTomorrow\n",
      "mailbox\n",
      "timeWentToBed\n",
      "stats\n",
      "blueprints\n",
      "itemsLostLastDeath\n",
      "farmName : 래빗킹덤\n",
      "favoriteThing : 곰돌이\n",
      "horseName : 주주\n",
      "slotCanHost : false\n",
      "userID\n",
      "catPerson : true\n",
      "whichPetBreed : 1\n",
      "acceptedDailyQuest : false\n",
      "mostRecentBed\n",
      "performedEmotes\n",
      "shirt : -1\n",
      "hair : 24\n",
      "skin : 23\n",
      "shoes : 10\n",
      "accessory : -1\n",
      "facialHair : -1\n",
      "pants : -1\n",
      "hairstyleColor\n",
      "pantsColor\n",
      "newEyeColor\n",
      "hat\n",
      "boots\n",
      "leftRing\n",
      "rightRing\n",
      "shirtItem\n",
      "pantsItem\n",
      "divorceTonight : false\n",
      "changeWalletTypeTonight : false\n",
      "woodPieces : 0\n",
      "stonePieces : 0\n",
      "copperPieces : 0\n",
      "ironPieces : 0\n",
      "coalPieces : 0\n",
      "goldPieces : 0\n",
      "iridiumPieces : 0\n",
      "quartzPieces : 0\n",
      "gameVersion : 1.4.5\n",
      "caveChoice : 2\n",
      "feed : 0\n",
      "farmingLevel : 10\n",
      "miningLevel : 10\n",
      "combatLevel : 10\n",
      "foragingLevel : 10\n",
      "fishingLevel : 10\n",
      "luckLevel : 0\n",
      "newSkillPointsToSpend : 0\n",
      "addedFarmingLevel : 0\n",
      "addedMiningLevel : 0\n",
      "addedCombatLevel : 0\n",
      "addedForagingLevel : 0\n",
      "addedFishingLevel : 0\n",
      "addedLuckLevel : 0\n",
      "maxStamina : 440\n",
      "maxItems : 36\n",
      "lastSeenMovieWeek : 90\n",
      "resilience : 0\n",
      "attack : 0\n",
      "immunity : -10\n",
      "attackIncreaseModifier : 0.1\n",
      "knockbackModifier : 0\n",
      "weaponSpeedModifier : 0\n",
      "critChanceModifier : 0\n",
      "critPowerModifier : 0\n",
      "weaponPrecisionModifier : 0\n",
      "clubCoins : 200\n",
      "trashCanLevel : 1\n",
      "daysLeftForToolUpgrade : 0\n",
      "houseUpgradeLevel : 3\n",
      "daysUntilHouseUpgrade : -1\n",
      "coopUpgradeLevel : 0\n",
      "barnUpgradeLevel : 0\n",
      "hasGreenhouse : false\n",
      "hasUnlockedSkullDoor : true\n",
      "hasDarkTalisman : true\n",
      "hasMagicInk : true\n",
      "showChestColorPicker : false\n",
      "hasMagnifyingGlass : true\n",
      "hasWateringCanEnchantment : false\n",
      "magneticRadius : 256\n",
      "temporaryInvincibilityTimer : 0\n",
      "health : 205\n",
      "maxHealth : 205\n",
      "difficultyModifier : 1\n",
      "isMale : true\n",
      "hasBusTicket : false\n",
      "stardewHero : false\n",
      "hasClubCard : true\n",
      "hasSpecialCharm : true\n",
      "basicShipped\n",
      "mineralsFound\n",
      "recipesCooked\n",
      "fishCaught\n",
      "archaeologyFound\n",
      "giftedItems\n",
      "tailoredItems\n",
      "friendshipData\n",
      "dayOfMonthForSaveGame : 24\n",
      "seasonForSaveGame : 2\n",
      "yearForSaveGame : 6\n",
      "overallsColor : 0\n",
      "shirtColor : 0\n",
      "skinColor : 0\n",
      "hairColor : 0\n",
      "eyeColor : 0\n",
      "bobber\n",
      "chestConsumedLevels\n",
      "saveTime : 4981588\n",
      "isCustomized : false\n",
      "homeLocation : FarmHouse\n",
      "daysMarried : 0\n",
      "movementMultiplier : 0.066\n",
      "isBeingSick : false\n",
      "theaterBuildDate : 550\n",
      "deepestMineLevel : 220\n",
      "stamina : 440\n",
      "totalMoneyEarned : 3947158\n",
      "millisecondsPlayed : 532237376\n",
      "hasRustyKey : true\n",
      "hasSkullKey : true\n",
      "canUnderstandDwarves : true\n",
      "useSeparateWallets : false\n",
      "timesReachedMineBottom : 3\n",
      "spouse : Leah\n",
      "UniqueMultiplayerID : -4714235859753809403\n",
      "money : 625831\n"
     ]
    }
   ],
   "source": [
    "for child in root[0]: #player\n",
    "    if child.text == None: #자식 노드가 있음\n",
    "        print(child.tag)\n",
    "    else:\n",
    "        print(child.tag + \" : \" + str(root[0].find(child.tag).text))"
   ]
  },
  {
   "cell_type": "code",
   "execution_count": 59,
   "metadata": {},
   "outputs": [],
   "source": [
    "items = root.find('player').find('items')"
   ]
  },
  {
   "cell_type": "code",
   "execution_count": 109,
   "metadata": {},
   "outputs": [],
   "source": [
    "#DisplayName, name, category, Stack, upgradeLevel\n",
    "items_el = items.findall('Item')\n",
    "\n",
    "name = []\n",
    "for it in items_el:\n",
    "    try:\n",
    "        name.append(it.find('name').text)\n",
    "    except AttributeError:\n",
    "        pass"
   ]
  },
  {
   "cell_type": "code",
   "execution_count": 125,
   "metadata": {},
   "outputs": [],
   "source": [
    "fr = root.find('player').find('friendshipData')"
   ]
  },
  {
   "cell_type": "code",
   "execution_count": 162,
   "metadata": {},
   "outputs": [],
   "source": [
    "friends = fr.findall('string')"
   ]
  },
  {
   "cell_type": "code",
   "execution_count": 249,
   "metadata": {},
   "outputs": [
    {
     "name": "stdout",
     "output_type": "stream",
     "text": [
      "Robin:2749:Friendly\n",
      "Lewis:2749:Friendly\n",
      "Vincent:2442:Friendly\n",
      "Jodi:2573:Friendly\n",
      "Haley:2384:Dating\n",
      "Sam:2249:Friendly\n",
      "Emily:2510:Dating\n",
      "Marnie:2749:Friendly\n",
      "Elliott:2205:Friendly\n",
      "Maru:2679:Dating\n",
      "Evelyn:2248:Friendly\n",
      "Gus:2575:Friendly\n",
      "Pam:2749:Friendly\n",
      "Alex:2032:Friendly\n",
      "Penny:2313:Dating\n",
      "George:1731:Friendly\n",
      "Caroline:2166:Friendly\n",
      "Pierre:2300:Friendly\n",
      "Shane:2249:Friendly\n",
      "Willy:2749:Friendly\n",
      "Jas:2600:Friendly\n",
      "Harvey:2084:Dating\n",
      "Demetrius:2736:Friendly\n",
      "Linus:2005:Friendly\n",
      "Abigail:2749:Dating\n",
      "Sebastian:2344:Dating\n",
      "Clint:2373:Friendly\n",
      "Leah:3709:None\n",
      "Wizard:1961:Friendly\n",
      "Dwarf:997:Friendly\n",
      "Kent:2749:Friendly\n",
      "Sandy:897:Friendly\n",
      "Krobus:0:Friendly\n",
      "Henchman:0:0\n",
      "포로리:2406:0\n",
      "보노보노:1484:0\n"
     ]
    }
   ],
   "source": [
    "for item in fr.findall('item'):\n",
    "    fr_name = item.find('key').find('string').text\n",
    "    try:\n",
    "        fr_points = item[1][0][0].text\n",
    "    except:\n",
    "        fr_point = 'NaN'\n",
    "    try:\n",
    "        fr_status = item[1][0][6].text\n",
    "    except:\n",
    "        fr_status= 'NaN'\n",
    "        \n",
    "    print(fr_name + \":\" + str(fr_points) + \":\" + str(fr_status))"
   ]
  },
  {
   "cell_type": "code",
   "execution_count": 52,
   "metadata": {},
   "outputs": [],
   "source": [
    "root.find('player').find('Bat Wing')"
   ]
  },
  {
   "cell_type": "code",
   "execution_count": 50,
   "metadata": {},
   "outputs": [
    {
     "name": "stdout",
     "output_type": "stream",
     "text": [
      "388\n",
      "88\n"
     ]
    }
   ],
   "source": [
    "for i in root.find('player').find('basicShipped')[0].itertext():\n",
    "    print(i)"
   ]
  },
  {
   "cell_type": "code",
   "execution_count": 15,
   "metadata": {},
   "outputs": [
    {
     "data": {
      "text/plain": [
       "0"
      ]
     },
     "execution_count": 15,
     "metadata": {},
     "output_type": "execute_result"
    }
   ],
   "source": [
    "len(ex[1])"
   ]
  },
  {
   "cell_type": "code",
   "execution_count": null,
   "metadata": {},
   "outputs": [],
   "source": []
  },
  {
   "cell_type": "code",
   "execution_count": null,
   "metadata": {},
   "outputs": [],
   "source": []
  },
  {
   "cell_type": "code",
   "execution_count": null,
   "metadata": {},
   "outputs": [],
   "source": []
  }
 ],
 "metadata": {
  "kernelspec": {
   "display_name": "Python 3",
   "language": "python",
   "name": "python3"
  },
  "language_info": {
   "codemirror_mode": {
    "name": "ipython",
    "version": 3
   },
   "file_extension": ".py",
   "mimetype": "text/x-python",
   "name": "python",
   "nbconvert_exporter": "python",
   "pygments_lexer": "ipython3",
   "version": "3.8.3"
  }
 },
 "nbformat": 4,
 "nbformat_minor": 5
}
