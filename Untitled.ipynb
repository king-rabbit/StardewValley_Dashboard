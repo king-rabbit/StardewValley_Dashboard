{
 "cells": [
  {
   "cell_type": "code",
   "execution_count": 33,
   "metadata": {},
   "outputs": [],
   "source": [
    "import json\n",
    "\n",
    "with open('data/meta_dt/ObjectInformation.ko-KR.json', 'rt', encoding='UTF-8') as json_file:\n",
    "    object_data = json.load(json_file)"
   ]
  },
  {
   "cell_type": "code",
   "execution_count": 34,
   "metadata": {},
   "outputs": [],
   "source": [
    "object_keys = list(object_data['content'].keys())"
   ]
  },
  {
   "cell_type": "code",
   "execution_count": 38,
   "metadata": {},
   "outputs": [
    {
     "data": {
      "text/plain": [
       "['Bok Choy Seeds',\n",
       " '25',\n",
       " '-300',\n",
       " 'Seeds -74',\n",
       " '청경채 씨앗',\n",
       " '가을 작물. 성장하려면 4일 소요됩니다.']"
      ]
     },
     "execution_count": 38,
     "metadata": {},
     "output_type": "execute_result"
    }
   ],
   "source": [
    "object_data['content']['491'].split('/')"
   ]
  },
  {
   "cell_type": "code",
   "execution_count": 28,
   "metadata": {},
   "outputs": [],
   "source": [
    "with open('data/meta_dt/Crops.json', 'rt', encoding='UTF-8') as json_file:\n",
    "    crop_data = json.load(json_file)"
   ]
  },
  {
   "cell_type": "code",
   "execution_count": 39,
   "metadata": {},
   "outputs": [
    {
     "data": {
      "text/plain": [
       "{'273': '1 2 2 3/spring/34/271/-1/1/true 1 1 10 .1/false/false',\n",
       " '299': '1 2 2 2/fall/39/300/-1/1/false/false/false',\n",
       " '301': '1 1 2 3 3/fall/38/398/3/0/false/true/false',\n",
       " '302': '1 1 2 3 4/summer/37/304/1/0/false/true/false',\n",
       " '347': '2 4 6 6 6/fall/32/417/-1/0/false/false/false',\n",
       " '425': '1 4 4 3/fall/31/595/-1/0/false/false/true 187 0 255 119 137 255 71 227 255 255 127 144 205 178 255 140 119 255',\n",
       " '427': '1 1 2 2/spring/26/591/-1/0/false/false/true 255 186 255 223 191 255 255 246 0 255 80 0 255 158 193',\n",
       " '429': '1 2 2 2/spring/27/597/-1/0/false/false/true 35 127 255 109 131 255 112 207 255 191 228 255 94 121 255 40 150 255',\n",
       " '431': '1 2 3 2/summer fall/30/421/-1/0/false/false/false',\n",
       " '433': '1 2 2 3 2/spring summer/40/433/2/0/true 4 4 0 .02/false/false',\n",
       " '453': '1 2 2 2/summer/28/376/-1/0/false/false/true 255 0 0 254 254 254 255 170 0',\n",
       " '455': '1 2 3 2/summer/29/593/-1/0/false/false/true 0 208 255 99 255 210 255 212 0 255 144 122 255 0 238 206 91 255',\n",
       " '472': '1 1 1 1/spring/0/24/-1/0/false/false/false',\n",
       " '473': '1 1 1 3 4/spring/1/188/3/0/false/true/false',\n",
       " '474': '1 2 4 4 1/spring/2/190/-1/0/false/false/false',\n",
       " '475': '1 1 1 2 1/spring/3/192/-1/0/true 1 1 0 .2/false/false',\n",
       " '476': '1 1 1 1/spring/4/248/-1/0/false/false/false',\n",
       " '477': '1 2 2 1/spring/5/250/-1/1/false/false/false',\n",
       " '478': '2 2 2 3 4/spring/6/252/-1/0/false/false/false',\n",
       " '479': '1 2 3 3 3/summer/7/254/-1/0/false/false/false',\n",
       " '480': '2 2 2 2 3/summer/8/256/4/0/true 1 1 0 .05/false/false',\n",
       " '481': '1 3 3 4 2/summer/9/258/4/0/true 3 3 0 .02/false/false',\n",
       " '482': '1 1 1 1 1/summer/10/260/3/0/true 1 1 0 .03/false/false',\n",
       " '483': '1 1 1 1/summer fall/11/262/-1/1/false/false/false',\n",
       " '484': '2 1 2 1/summer/12/264/-1/0/false/false/false',\n",
       " '485': '2 1 2 2 2/summer/13/266/-1/0/false/false/false',\n",
       " '486': '2 3 2 3 3/summer/14/268/-1/0/false/false/false',\n",
       " '487': '2 3 3 3 3/summer fall/15/270/4/0/false/false/false',\n",
       " '488': '1 1 1 1 1/fall/16/272/5/0/true 1 1 0 .002/false/false',\n",
       " '489': '2 2 1 2 1/fall/17/274/-1/0/false/false/false',\n",
       " '490': '1 2 3 4 3/fall/18/276/-1/0/false/false/false',\n",
       " '491': '1 1 1 1/fall/19/278/-1/0/false/false/false',\n",
       " '492': '1 3 3 3/fall/20/280/-1/0/false/false/false',\n",
       " '493': '1 2 1 1 2/fall/21/282/5/0/true 2 2 0 .1/false/false',\n",
       " '494': '1 1 2 2/fall/22/284/-1/0/false/false/false',\n",
       " '495': '3 4/spring/23/16/-1/0/false/false/false',\n",
       " '496': '3 4/summer/23/396/-1/0/false/false/false',\n",
       " '497': '3 4/fall/23/404/-1/0/false/false/false',\n",
       " '498': '3 4/winter/23/412/-1/0/false/false/false',\n",
       " '499': '2 7 7 7 5/spring summer fall/24/454/7/0/false/false/false',\n",
       " '745': '1 1 2 2 2/spring/36/400/4/0/true 1 1 0 .02/false/false',\n",
       " '802': '2 2 2 3 3/spring summer fall winter/41/90/3/0/false/false/false'}"
      ]
     },
     "execution_count": 39,
     "metadata": {},
     "output_type": "execute_result"
    }
   ],
   "source": [
    "crop_data['content']"
   ]
  },
  {
   "cell_type": "code",
   "execution_count": null,
   "metadata": {},
   "outputs": [],
   "source": []
  },
  {
   "cell_type": "code",
   "execution_count": null,
   "metadata": {},
   "outputs": [],
   "source": []
  }
 ],
 "metadata": {
  "kernelspec": {
   "display_name": "Python 3",
   "language": "python",
   "name": "python3"
  },
  "language_info": {
   "codemirror_mode": {
    "name": "ipython",
    "version": 3
   },
   "file_extension": ".py",
   "mimetype": "text/x-python",
   "name": "python",
   "nbconvert_exporter": "python",
   "pygments_lexer": "ipython3",
   "version": "3.8.3"
  }
 },
 "nbformat": 4,
 "nbformat_minor": 4
}
