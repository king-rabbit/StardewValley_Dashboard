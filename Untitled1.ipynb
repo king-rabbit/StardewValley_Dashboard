{
 "cells": [
  {
   "cell_type": "code",
   "execution_count": 23,
   "id": "3dab5090-b422-459a-bc7f-6300252290e2",
   "metadata": {},
   "outputs": [],
   "source": [
    "import requests\n",
    "import urllib.request \n",
    "from bs4 import BeautifulSoup"
   ]
  },
  {
   "cell_type": "code",
   "execution_count": 4,
   "id": "e24bf5cb-da18-40af-9e2d-153815148e44",
   "metadata": {},
   "outputs": [],
   "source": [
    "url = 'https://stardewvalleywiki.com/Modding:Items/Object_sprites'\n",
    "response = requests.get(url)\n",
    "html = response.text\n",
    "soup = BeautifulSoup(html, 'html.parser')"
   ]
  },
  {
   "cell_type": "code",
   "execution_count": 7,
   "id": "5cb34871-d1a1-4622-a2d8-198280f1b250",
   "metadata": {},
   "outputs": [],
   "source": [
    "img_tags = soup.find('table').find_all('img')"
   ]
  },
  {
   "cell_type": "code",
   "execution_count": 8,
   "id": "160e4932-93ae-4c48-ad36-d30c83f5484d",
   "metadata": {},
   "outputs": [],
   "source": [
    "idx = soup.find_all('td')"
   ]
  },
  {
   "cell_type": "code",
   "execution_count": 19,
   "id": "3e5fbc23-bfc0-4f9d-8a34-41328976d065",
   "metadata": {},
   "outputs": [],
   "source": [
    "sd_url = 'https://stardewvalleywiki.com'"
   ]
  },
  {
   "cell_type": "code",
   "execution_count": 33,
   "id": "1b6c798d-771a-40b0-b5c9-74ea0ba0f3b5",
   "metadata": {},
   "outputs": [],
   "source": [
    "url_rest = img_tags[0]['srcset'].split(' ')[2]"
   ]
  },
  {
   "cell_type": "code",
   "execution_count": 36,
   "id": "1798f28a-3b8c-4c32-a134-0fbbb8d76ab3",
   "metadata": {},
   "outputs": [
    {
     "data": {
      "text/plain": [
       "'https://stardewvalleywiki.com/mediawiki/images/5/54/Springobjects000.png'"
      ]
     },
     "execution_count": 36,
     "metadata": {},
     "output_type": "execute_result"
    }
   ],
   "source": [
    "sd_url + url_rest"
   ]
  },
  {
   "cell_type": "code",
   "execution_count": 21,
   "id": "760b8dcb-6582-412c-a4a4-3ca3ca27cdec",
   "metadata": {},
   "outputs": [
    {
     "data": {
      "text/plain": [
       "'/mediawiki/images/thumb/5/54/Springobjects000.png/24px-Springobjects000.png'"
      ]
     },
     "execution_count": 21,
     "metadata": {},
     "output_type": "execute_result"
    }
   ],
   "source": [
    "https://stardewvalleywiki.com/mediawiki/images/5/54/Springobjects000.png"
   ]
  },
  {
   "cell_type": "code",
   "execution_count": null,
   "id": "4158be8f-c086-41bb-ab36-110fef38f3df",
   "metadata": {},
   "outputs": [],
   "source": []
  },
  {
   "cell_type": "code",
   "execution_count": null,
   "id": "c5d4b4f5-1f95-450d-befa-101a44d8b0e0",
   "metadata": {},
   "outputs": [],
   "source": []
  }
 ],
 "metadata": {
  "kernelspec": {
   "display_name": "Python 3",
   "language": "python",
   "name": "python3"
  },
  "language_info": {
   "codemirror_mode": {
    "name": "ipython",
    "version": 3
   },
   "file_extension": ".py",
   "mimetype": "text/x-python",
   "name": "python",
   "nbconvert_exporter": "python",
   "pygments_lexer": "ipython3",
   "version": "3.8.8"
  }
 },
 "nbformat": 4,
 "nbformat_minor": 5
}
